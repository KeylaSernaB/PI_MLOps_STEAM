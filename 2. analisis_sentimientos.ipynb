{
 "cells": [
  {
   "cell_type": "code",
   "execution_count": 5,
   "metadata": {},
   "outputs": [
    {
     "name": "stderr",
     "output_type": "stream",
     "text": [
      "[nltk_data] Downloading package vader_lexicon to\n",
      "[nltk_data]     C:\\Users\\USUARIO\\AppData\\Roaming\\nltk_data...\n",
      "[nltk_data]   Package vader_lexicon is already up-to-date!\n"
     ]
    },
    {
     "data": {
      "text/plain": [
       "True"
      ]
     },
     "execution_count": 5,
     "metadata": {},
     "output_type": "execute_result"
    }
   ],
   "source": [
    "import pandas as pd\n",
    "from nltk.sentiment import SentimentIntensityAnalyzer\n",
    "import nltk\n",
    "nltk.download('vader_lexicon')"
   ]
  },
  {
   "cell_type": "code",
   "execution_count": 12,
   "metadata": {},
   "outputs": [],
   "source": [
    "# leemos el archivo\n",
    "\n",
    "user_reviews = pd.read_csv(r\"CSV\\user_reviews.csv\")\n"
   ]
  },
  {
   "cell_type": "code",
   "execution_count": 13,
   "metadata": {},
   "outputs": [],
   "source": [
    "def asignar_etiqueta(sentimiento):\n",
    "    \"\"\"\n",
    "    Función para Asignar Etiquetas Numéricas a los Sentimientos\n",
    "\n",
    "    Esta función recibe un puntaje de sentimiento como entrada y asigna etiquetas numéricas según umbrales predefinidos.\n",
    "\n",
    "    Parámetros:\n",
    "    - sentimiento (float): Puntaje de sentimiento obtenido del análisis.\n",
    "\n",
    "    Retorno:\n",
    "    - int: Etiqueta numérica asignada, donde:\n",
    "           - 2 indica sentimiento positivo,\n",
    "           - 0 indica sentimiento negativo, y\n",
    "           - 1 indica neutralidad.\n",
    "\n",
    "    Ejemplo de Uso:\n",
    "    ```python\n",
    "    puntaje_sentimiento = analizar_sentimiento(texto)\n",
    "    etiqueta_asignada = asignar_etiqueta(puntaje_sentimiento)\n",
    "    print(f\"Etiqueta Asignada: {etiqueta_asignada}\")\n",
    "    ```\n",
    "    \"\"\"\n",
    "    if sentimiento >= 0.05:\n",
    "        return 2  # Sentimiento positivo\n",
    "    elif sentimiento <= -0.04:\n",
    "        return 0  # Sentimiento negativo\n",
    "    else:\n",
    "        return 1  # Neutral"
   ]
  },
  {
   "cell_type": "code",
   "execution_count": 14,
   "metadata": {},
   "outputs": [],
   "source": [
    "# Rellenar valores nulos con una cadena vacía\n",
    "user_reviews['review'].fillna('', inplace=True)"
   ]
  },
  {
   "cell_type": "code",
   "execution_count": 15,
   "metadata": {},
   "outputs": [],
   "source": [
    "# Inicializar el analizador de sentimientos de NLTK\n",
    "sid = SentimentIntensityAnalyzer()\n",
    "\n",
    "# Aplicar el análisis de sentimiento y asignar etiquetas numéricas\n",
    "user_reviews['sentiment_score'] = user_reviews['review'].apply(lambda x: sid.polarity_scores(x)['compound'])\n",
    "user_reviews['sentiment_analysis'] = user_reviews['sentiment_score'].apply(asignar_etiqueta)\n",
    "\n",
    "# Borramos la columa reviews\n",
    "user_reviews.drop(columns=[\"review\"],inplace=True)"
   ]
  },
  {
   "cell_type": "code",
   "execution_count": 16,
   "metadata": {},
   "outputs": [],
   "source": [
    "# Convertir el DataFrame 'user_reviews' a CSV\n",
    "user_reviews.to_csv(\"E:\\HENRY\\PI MLOps\\PI MLOps - STEAM\\CSV\\\\user_reviews.csv\", index=False)"
   ]
  }
 ],
 "metadata": {
  "kernelspec": {
   "display_name": "Python 3",
   "language": "python",
   "name": "python3"
  },
  "language_info": {
   "codemirror_mode": {
    "name": "ipython",
    "version": 3
   },
   "file_extension": ".py",
   "mimetype": "text/x-python",
   "name": "python",
   "nbconvert_exporter": "python",
   "pygments_lexer": "ipython3",
   "version": "3.11.3"
  },
  "orig_nbformat": 4
 },
 "nbformat": 4,
 "nbformat_minor": 2
}
