{
 "cells": [
  {
   "cell_type": "code",
   "execution_count": 1,
   "metadata": {},
   "outputs": [],
   "source": [
    "import pandas as pd"
   ]
  },
  {
   "cell_type": "code",
   "execution_count": 2,
   "metadata": {},
   "outputs": [],
   "source": [
    "steam_games = pd.read_csv(\"CSV\\steam_games.csv\")\n",
    "user_reviews =pd.read_csv(r\"CSV\\user_reviews.csv\")"
   ]
  },
  {
   "cell_type": "code",
   "execution_count": 3,
   "metadata": {},
   "outputs": [],
   "source": [
    "#Concatenamos los dataframes\n",
    "analisis_sentimientos_df = steam_games[['id', 'developer']].merge(user_reviews[['item_id', 'sentiment_analysis']], left_on='id', right_on='item_id', how='inner')\n",
    "#Quitamos las columnas id e item_id porque no las vamos a ocupar\n",
    "analisis_sentimientos_df = analisis_sentimientos_df.drop(columns=['id', 'item_id'])\n"
   ]
  },
  {
   "cell_type": "code",
   "execution_count": 4,
   "metadata": {},
   "outputs": [
    {
     "data": {
      "text/html": [
       "<div>\n",
       "<style scoped>\n",
       "    .dataframe tbody tr th:only-of-type {\n",
       "        vertical-align: middle;\n",
       "    }\n",
       "\n",
       "    .dataframe tbody tr th {\n",
       "        vertical-align: top;\n",
       "    }\n",
       "\n",
       "    .dataframe thead th {\n",
       "        text-align: right;\n",
       "    }\n",
       "</style>\n",
       "<table border=\"1\" class=\"dataframe\">\n",
       "  <thead>\n",
       "    <tr style=\"text-align: right;\">\n",
       "      <th></th>\n",
       "      <th>developer</th>\n",
       "      <th>sentiment_analysis</th>\n",
       "    </tr>\n",
       "  </thead>\n",
       "  <tbody>\n",
       "    <tr>\n",
       "      <th>0</th>\n",
       "      <td>Stainless Games Ltd</td>\n",
       "      <td>1</td>\n",
       "    </tr>\n",
       "    <tr>\n",
       "      <th>1</th>\n",
       "      <td>Valve</td>\n",
       "      <td>2</td>\n",
       "    </tr>\n",
       "    <tr>\n",
       "      <th>2</th>\n",
       "      <td>Valve</td>\n",
       "      <td>0</td>\n",
       "    </tr>\n",
       "    <tr>\n",
       "      <th>3</th>\n",
       "      <td>Valve</td>\n",
       "      <td>2</td>\n",
       "    </tr>\n",
       "    <tr>\n",
       "      <th>4</th>\n",
       "      <td>Valve</td>\n",
       "      <td>2</td>\n",
       "    </tr>\n",
       "  </tbody>\n",
       "</table>\n",
       "</div>"
      ],
      "text/plain": [
       "             developer  sentiment_analysis\n",
       "0  Stainless Games Ltd                   1\n",
       "1                Valve                   2\n",
       "2                Valve                   0\n",
       "3                Valve                   2\n",
       "4                Valve                   2"
      ]
     },
     "execution_count": 4,
     "metadata": {},
     "output_type": "execute_result"
    }
   ],
   "source": [
    "analisis_sentimientos_df.head()"
   ]
  },
  {
   "cell_type": "code",
   "execution_count": 5,
   "metadata": {},
   "outputs": [],
   "source": [
    "# Convertir los valores en la columna 'sentiment_analysis' a int\n",
    "analisis_sentimientos_df['sentiment_analysis'] = analisis_sentimientos_df['sentiment_analysis'].astype(int)\n",
    "#Cambiamos los valores por positivo , negativo y neutral\n",
    "analisis_sentimientos_df['sentiment_analysis'] = analisis_sentimientos_df['sentiment_analysis'].replace({0: 'Negativo', 1: 'Neutral', 2: 'Positivo'})\n"
   ]
  },
  {
   "cell_type": "code",
   "execution_count": 6,
   "metadata": {},
   "outputs": [
    {
     "data": {
      "text/html": [
       "<div>\n",
       "<style scoped>\n",
       "    .dataframe tbody tr th:only-of-type {\n",
       "        vertical-align: middle;\n",
       "    }\n",
       "\n",
       "    .dataframe tbody tr th {\n",
       "        vertical-align: top;\n",
       "    }\n",
       "\n",
       "    .dataframe thead th {\n",
       "        text-align: right;\n",
       "    }\n",
       "</style>\n",
       "<table border=\"1\" class=\"dataframe\">\n",
       "  <thead>\n",
       "    <tr style=\"text-align: right;\">\n",
       "      <th></th>\n",
       "      <th>developer</th>\n",
       "      <th>sentiment_analysis</th>\n",
       "    </tr>\n",
       "  </thead>\n",
       "  <tbody>\n",
       "    <tr>\n",
       "      <th>0</th>\n",
       "      <td>Stainless Games Ltd</td>\n",
       "      <td>Neutral</td>\n",
       "    </tr>\n",
       "    <tr>\n",
       "      <th>1</th>\n",
       "      <td>Valve</td>\n",
       "      <td>Positivo</td>\n",
       "    </tr>\n",
       "    <tr>\n",
       "      <th>2</th>\n",
       "      <td>Valve</td>\n",
       "      <td>Negativo</td>\n",
       "    </tr>\n",
       "    <tr>\n",
       "      <th>3</th>\n",
       "      <td>Valve</td>\n",
       "      <td>Positivo</td>\n",
       "    </tr>\n",
       "    <tr>\n",
       "      <th>4</th>\n",
       "      <td>Valve</td>\n",
       "      <td>Positivo</td>\n",
       "    </tr>\n",
       "  </tbody>\n",
       "</table>\n",
       "</div>"
      ],
      "text/plain": [
       "             developer sentiment_analysis\n",
       "0  Stainless Games Ltd            Neutral\n",
       "1                Valve           Positivo\n",
       "2                Valve           Negativo\n",
       "3                Valve           Positivo\n",
       "4                Valve           Positivo"
      ]
     },
     "execution_count": 6,
     "metadata": {},
     "output_type": "execute_result"
    }
   ],
   "source": [
    "analisis_sentimientos_df.head()"
   ]
  },
  {
   "cell_type": "code",
   "execution_count": 7,
   "metadata": {},
   "outputs": [],
   "source": [
    "# Agrupar los datos y contar los valores\n",
    "analisis_sentimientos_df = analisis_sentimientos_df.groupby('developer')['sentiment_analysis'].value_counts()\n"
   ]
  },
  {
   "cell_type": "code",
   "execution_count": 8,
   "metadata": {},
   "outputs": [
    {
     "data": {
      "text/plain": [
       "developer                              sentiment_analysis\n",
       "07th Expansion                         Neutral               2\n",
       "                                       Negativo              1\n",
       "10th Art Studio,Adventure Productions  Negativo              1\n",
       "                                       Positivo              1\n",
       "10tons Ltd                             Positivo              1\n",
       "Name: count, dtype: int64"
      ]
     },
     "execution_count": 8,
     "metadata": {},
     "output_type": "execute_result"
    }
   ],
   "source": [
    "analisis_sentimientos_df.head()"
   ]
  },
  {
   "cell_type": "code",
   "execution_count": 9,
   "metadata": {},
   "outputs": [],
   "source": [
    "#Convertimos a CSV\n",
    "analisis_sentimientos_df.to_csv('Api\\sentiment_analysis.csv', index=False)"
   ]
  },
  {
   "cell_type": "code",
   "execution_count": 10,
   "metadata": {},
   "outputs": [],
   "source": [
    "\n",
    "def sentiment_analysis(developer):\n",
    "    \"\"\"\n",
    "    Retorna un diccionario que muestra la cantidad de reseñas positivas, negativas y neutrales para un desarrollador específico.\n",
    "\n",
    "    Parameters:\n",
    "    - developer (str): El nombre del desarrollador para el cual se desea obtener el análisis de sentimientos.\n",
    "\n",
    "    Returns:\n",
    "    - dict: Un diccionario con el nombre del desarrollador como clave y una lista con la cantidad total de registros\n",
    "            de reseñas de usuarios categorizados con un análisis de sentimiento como valor.\n",
    "            Ejemplo de retorno: {'Valve': {'Negative': 182, 'Neutral': 120, 'Positive': 278}}\n",
    "\n",
    "            En caso de que no se encuentren datos para el desarrollador especificado, se retorna un mensaje informativo.\n",
    "            Ejemplo: \"No se encontraron datos para el desarrollador 'NombreDelDesarrollador'\".\n",
    "    \"\"\"\n",
    "    developer_column = analisis_sentimientos_df[\"developer\"].tolist()\n",
    "\n",
    "    if developer in developer_column:\n",
    "        index = developer_column.index(developer)\n",
    "        sentiment_counts = analisis_sentimientos_df.iloc[index, 1:].to_dict()\n",
    "        return {developer: sentiment_counts}\n",
    "    else:\n",
    "        return f\"No se encontraron datos para el desarrollador '{developer}'\""
   ]
  }
 ],
 "metadata": {
  "kernelspec": {
   "display_name": "Python 3",
   "language": "python",
   "name": "python3"
  },
  "language_info": {
   "codemirror_mode": {
    "name": "ipython",
    "version": 3
   },
   "file_extension": ".py",
   "mimetype": "text/x-python",
   "name": "python",
   "nbconvert_exporter": "python",
   "pygments_lexer": "ipython3",
   "version": "3.11.3"
  },
  "orig_nbformat": 4
 },
 "nbformat": 4,
 "nbformat_minor": 2
}
