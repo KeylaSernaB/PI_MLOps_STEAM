{
 "cells": [
  {
   "cell_type": "code",
   "execution_count": 1,
   "metadata": {},
   "outputs": [],
   "source": [
    "import pandas as pd"
   ]
  },
  {
   "cell_type": "code",
   "execution_count": 2,
   "metadata": {},
   "outputs": [],
   "source": [
    "steam_games = pd.read_csv(\"CSV\\steam_games.csv\")\n",
    "user_reviews =pd.read_csv(r\"CSV\\user_reviews.csv\")"
   ]
  },
  {
   "cell_type": "code",
   "execution_count": 3,
   "metadata": {},
   "outputs": [],
   "source": [
    "# Combinar dataframes en base a las columnas id e item_id\n",
    "df_UserWorstDeveloper = pd.merge(steam_games, user_reviews, left_on='id', right_on='item_id')\n",
    "\n",
    "# Seleccionar columnas \n",
    "df_UserWorstDeveloper = df_UserWorstDeveloper[['developer', 'recommend', 'sentiment_analysis','posted_year']]\n"
   ]
  },
  {
   "cell_type": "code",
   "execution_count": 4,
   "metadata": {},
   "outputs": [],
   "source": [
    "#Filtramos los comentarios negativos\n",
    "df_UserWorstDeveloper = df_UserWorstDeveloper[df_UserWorstDeveloper['sentiment_analysis'] == 0]\n"
   ]
  },
  {
   "cell_type": "code",
   "execution_count": 5,
   "metadata": {},
   "outputs": [
    {
     "data": {
      "text/html": [
       "<div>\n",
       "<style scoped>\n",
       "    .dataframe tbody tr th:only-of-type {\n",
       "        vertical-align: middle;\n",
       "    }\n",
       "\n",
       "    .dataframe tbody tr th {\n",
       "        vertical-align: top;\n",
       "    }\n",
       "\n",
       "    .dataframe thead th {\n",
       "        text-align: right;\n",
       "    }\n",
       "</style>\n",
       "<table border=\"1\" class=\"dataframe\">\n",
       "  <thead>\n",
       "    <tr style=\"text-align: right;\">\n",
       "      <th></th>\n",
       "      <th>developer</th>\n",
       "      <th>posted_year</th>\n",
       "      <th>recommend</th>\n",
       "    </tr>\n",
       "  </thead>\n",
       "  <tbody>\n",
       "    <tr>\n",
       "      <th>0</th>\n",
       "      <td>07th Expansion</td>\n",
       "      <td>2015.0</td>\n",
       "      <td>1</td>\n",
       "    </tr>\n",
       "    <tr>\n",
       "      <th>1</th>\n",
       "      <td>10th Art Studio,Adventure Productions</td>\n",
       "      <td>2015.0</td>\n",
       "      <td>0</td>\n",
       "    </tr>\n",
       "    <tr>\n",
       "      <th>2</th>\n",
       "      <td>11 bit studios</td>\n",
       "      <td>2011.0</td>\n",
       "      <td>1</td>\n",
       "    </tr>\n",
       "    <tr>\n",
       "      <th>3</th>\n",
       "      <td>11 bit studios</td>\n",
       "      <td>2014.0</td>\n",
       "      <td>7</td>\n",
       "    </tr>\n",
       "    <tr>\n",
       "      <th>4</th>\n",
       "      <td>11 bit studios</td>\n",
       "      <td>2015.0</td>\n",
       "      <td>13</td>\n",
       "    </tr>\n",
       "  </tbody>\n",
       "</table>\n",
       "</div>"
      ],
      "text/plain": [
       "                               developer  posted_year  recommend\n",
       "0                         07th Expansion       2015.0          1\n",
       "1  10th Art Studio,Adventure Productions       2015.0          0\n",
       "2                         11 bit studios       2011.0          1\n",
       "3                         11 bit studios       2014.0          7\n",
       "4                         11 bit studios       2015.0         13"
      ]
     },
     "execution_count": 5,
     "metadata": {},
     "output_type": "execute_result"
    }
   ],
   "source": [
    "#Agrupamos las recomendaciones por desarrollador y por año\n",
    "df_UserWorstDeveloper = df_UserWorstDeveloper.groupby(['developer', 'posted_year'])['recommend'].sum().reset_index()\n",
    "df_UserWorstDeveloper.head()"
   ]
  },
  {
   "cell_type": "code",
   "execution_count": 7,
   "metadata": {},
   "outputs": [],
   "source": [
    "df_UserWorstDeveloper.to_csv(r'Api\\UsersWorstDeveloper.csv', index=False)\n"
   ]
  },
  {
   "cell_type": "code",
   "execution_count": 8,
   "metadata": {},
   "outputs": [],
   "source": [
    "def UserWorstDeveloper(anio):\n",
    "    desarrollador = df_UserWorstDeveloper[df_UserWorstDeveloper['posted_year']== anio]\n",
    "    if not desarrollador.empty:\n",
    "        # Encuentra los años con menos recomendaciones\n",
    "        desarrollador = desarrollador.nsmallest(3, 'recommend')\n",
    "        resultado = [{\"Puesto 1\" : desarrollador.iloc[0]['developer']}, \n",
    "                  {\"Puesto 2\" : desarrollador.iloc[1]['developer']},\n",
    "                  {\"Puesto 3\" : desarrollador.iloc[2]['developer']}]\n",
    "        return resultado\n",
    "    else:\n",
    "        return f\"No se encontraron datos para el año '{anio}'\"\n",
    "    "
   ]
  },
  {
   "cell_type": "code",
   "execution_count": 9,
   "metadata": {},
   "outputs": [
    {
     "data": {
      "text/plain": [
       "[{'Puesto 1': 'NeoCoreGames'},\n",
       " {'Puesto 2': 'Slant Six Games'},\n",
       " {'Puesto 3': 'Volition'}]"
      ]
     },
     "execution_count": 9,
     "metadata": {},
     "output_type": "execute_result"
    }
   ],
   "source": [
    "UserWorstDeveloper(2012)"
   ]
  }
 ],
 "metadata": {
  "kernelspec": {
   "display_name": "Python 3",
   "language": "python",
   "name": "python3"
  },
  "language_info": {
   "codemirror_mode": {
    "name": "ipython",
    "version": 3
   },
   "file_extension": ".py",
   "mimetype": "text/x-python",
   "name": "python",
   "nbconvert_exporter": "python",
   "pygments_lexer": "ipython3",
   "version": "3.11.3"
  },
  "orig_nbformat": 4
 },
 "nbformat": 4,
 "nbformat_minor": 2
}
